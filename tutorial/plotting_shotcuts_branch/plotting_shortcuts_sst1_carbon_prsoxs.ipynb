{
 "cells": [
  {
   "cell_type": "markdown",
   "id": "0",
   "metadata": {},
   "source": [
    "# Plotting pre-processed SST1 RSoXS data\n",
    "Use pyhyper's new RSoXS plotting shortctus"
   ]
  },
  {
   "cell_type": "markdown",
   "id": "1",
   "metadata": {
    "tags": []
   },
   "source": [
    "## Imports"
   ]
  },
  {
   "cell_type": "code",
   "execution_count": null,
   "id": "3",
   "metadata": {
    "tags": []
   },
   "outputs": [],
   "source": [
    "## Imports\n",
    "import PyHyperScattering as phs\n",
    "import pathlib\n",
    "import sys\n",
    "import io\n",
    "import ast\n",
    "import json\n",
    "import datetime\n",
    "import dask.array as da\n",
    "import numpy as np\n",
    "import pandas as pd\n",
    "import xarray as xr\n",
    "import matplotlib.pyplot as plt\n",
    "from matplotlib.colors import LogNorm\n",
    "from matplotlib.ticker import (MultipleLocator, AutoMinorLocator)\n",
    "from tqdm.auto import tqdm\n",
    "import subprocess\n",
    "import gc\n",
    "\n",
    "print(f'Using PyHyperScattering Version: {phs.__version__}')"
   ]
  },
  {
   "cell_type": "markdown",
   "id": "96adcc47-a83c-4c87-a74b-f87496d0f753",
   "metadata": {},
   "source": [
    "## Define paths"
   ]
  },
  {
   "cell_type": "code",
   "execution_count": null,
   "id": "16617d00-65e5-4015-82c4-45fb3d8ae910",
   "metadata": {
    "tags": []
   },
   "outputs": [],
   "source": [
    "notebookPath = pathlib.Path.cwd() \n",
    "zarrsPath = notebookPath  # use this if the example data is in the same folder as this notebook\n",
    "# zarrsPath = pathlib.Path('/nsls2/data/sst/proposals/2024-2/pass-313412/rsoxs_hackathon_2024_data')  # use this if working in the NSLS2 Jupyterhub to access zarrs"
   ]
  },
  {
   "cell_type": "markdown",
   "id": "8",
   "metadata": {
    "jp-MarkdownHeadingCollapsed": true,
    "tags": []
   },
   "source": [
    "## Load cartesian data "
   ]
  },
  {
   "cell_type": "code",
   "execution_count": null,
   "id": "9",
   "metadata": {
    "tags": []
   },
   "outputs": [],
   "source": [
    "[f.name for f in zarrsPath.glob('*zarr')]"
   ]
  },
  {
   "cell_type": "code",
   "execution_count": null,
   "id": "11",
   "metadata": {
    "tags": []
   },
   "outputs": [],
   "source": [
    "DS = xr.open_zarr(zarrsPath.joinpath('cartesian_data_PM6_CF.zarr'))\n",
    "\n",
    "# Compute any dask coordiantes\n",
    "for coord_name, coord_data in DS.coords.items():\n",
    "    if isinstance(coord_data.data, da.Array):\n",
    "        DS.coords[coord_name] = coord_data.compute()\n",
    "        \n",
    "DS"
   ]
  },
  {
   "cell_type": "markdown",
   "id": "5fe3d743-571f-41e0-b2e6-ec92ef1fdaca",
   "metadata": {},
   "source": [
    "### Detector images"
   ]
  },
  {
   "cell_type": "markdown",
   "id": "d8d4d1d7-8458-401d-9415-dd5a6749532b",
   "metadata": {},
   "source": [
    "#### Facet plot at several selected energies"
   ]
  },
  {
   "cell_type": "code",
   "execution_count": null,
   "id": "66cd537c-e218-480d-845c-9f0367add046",
   "metadata": {},
   "outputs": [],
   "source": []
  },
  {
   "cell_type": "markdown",
   "id": "2779843d-0741-45c8-9cf8-fd11a08e89e6",
   "metadata": {},
   "source": [
    "#### Single image at selected energy"
   ]
  },
  {
   "cell_type": "code",
   "execution_count": null,
   "id": "156cada4-ad4a-4059-b15a-97d837419550",
   "metadata": {},
   "outputs": [],
   "source": []
  },
  {
   "cell_type": "markdown",
   "id": "3e86b7cd-b724-4c54-ad63-82d3f5d093af",
   "metadata": {},
   "source": [
    "#### Generate mp4 movie of detector image at all energies"
   ]
  },
  {
   "cell_type": "code",
   "execution_count": null,
   "id": "1219ad6a-fe5b-4d2a-888b-8c0d0ca4d0d3",
   "metadata": {},
   "outputs": [],
   "source": []
  },
  {
   "cell_type": "markdown",
   "id": "440cf8e0-9a01-49fc-a739-c72212012602",
   "metadata": {},
   "source": [
    "## Load polar data & set plotting config"
   ]
  },
  {
   "cell_type": "code",
   "execution_count": null,
   "id": "fbc68672-0ebe-42f5-b8a4-5ac19740741a",
   "metadata": {
    "tags": []
   },
   "outputs": [],
   "source": [
    "[f.name for f in zarrsPath.glob('*zarr')]"
   ]
  },
  {
   "cell_type": "code",
   "execution_count": null,
   "id": "e98775cc-7447-40f6-8c90-a6c58ba9e4cd",
   "metadata": {
    "tags": []
   },
   "outputs": [],
   "source": [
    "DS = xr.open_zarr(zarrsPath.joinpath('polar_data_PM6_CF.zarr'))\n",
    "\n",
    "# Compute any dask coordiantes\n",
    "for coord_name, coord_data in DS.coords.items():\n",
    "    if isinstance(coord_data.data, da.Array):\n",
    "        DS.coords[coord_name] = coord_data.compute()\n",
    "\n",
    "# Select a dataarray (potentially from larger dataset)\n",
    "pol = 0\n",
    "data_variable = 'raw_intensity'\n",
    "DA = DS[data_variable].sel(polarization=pol)\n",
    "\n",
    "# Set default plot roi & hint settings:\n",
    "DA.attrs['plot_roi'] = {\n",
    "    'chi_width': 90,\n",
    "    'q_range': (0.01, 0.09),\n",
    "    'energy_range': (280, 295),\n",
    "    'energy_default': 285,\n",
    "    'selected_energies': np.array([275, 284, 284.4, 284.8, 285.2, 285.6, 286.2, 287, 300, 335])\n",
    "}\n",
    "\n",
    "DA.attrs['plot_hints'] = {\n",
    "    'I_cmap': 'turbo',\n",
    "    'xscale': 'log',\n",
    "    'yscale': 'log'\n",
    "}\n",
    "\n",
    "DA"
   ]
  },
  {
   "cell_type": "markdown",
   "id": "15995e5c-cd62-415b-abb9-ce23d4aafae3",
   "metadata": {},
   "source": [
    "### Integrated scattered intensity (ISI) plots"
   ]
  },
  {
   "cell_type": "code",
   "execution_count": null,
   "id": "a44694d0-c26e-4fb2-ad65-7e2e5eba10af",
   "metadata": {
    "tags": []
   },
   "outputs": [],
   "source": [
    "# Call ISI function, return ISI figure & axes object\n",
    "# fig, ax = DA.pt.plot_ISI(save=False)\n",
    "fig, ax = DA.pt.plot_ISI()\n",
    "\n",
    "# Plot\n",
    "plt.show()\n",
    "plt.close('all')"
   ]
  },
  {
   "cell_type": "markdown",
   "id": "40ed92b4-5597-4965-a016-a6ca3dc52f51",
   "metadata": {},
   "source": [
    "### Intensity heatmaps"
   ]
  },
  {
   "cell_type": "code",
   "execution_count": null,
   "id": "595137b3-afdd-402a-bcea-77a03fc47838",
   "metadata": {},
   "outputs": [],
   "source": [
    "# Call Imap function, return Imap figure & axes list \n",
    "# fig, ax = DA.pt.plot_Imap(save=False)\n",
    "fig, ax = DA.pt.plot_Imap()\n",
    "\n",
    "# Plot\n",
    "plt.show()\n",
    "plt.close('all')"
   ]
  },
  {
   "cell_type": "markdown",
   "id": "79e5f90f-f3d8-449b-8970-32ea3f567456",
   "metadata": {},
   "source": [
    "### Intensity vs Q linecuts"
   ]
  },
  {
   "cell_type": "code",
   "execution_count": null,
   "id": "0c312695-83da-4aeb-adc7-63169d8431b6",
   "metadata": {},
   "outputs": [],
   "source": [
    "# Call Imap function, return Imap figure & axes list \n",
    "# fig, ax = DA.pt.plot_IvQ(save=False)\n",
    "fig, ax = DA.pt.plot_IvQ()\n",
    "\n",
    "# Plot\n",
    "plt.show()\n",
    "plt.close('all')"
   ]
  },
  {
   "cell_type": "markdown",
   "id": "c13ef87c-ef20-40a5-8a68-52dd53c67217",
   "metadata": {},
   "source": [
    "### Anisotropy heatmaps"
   ]
  },
  {
   "cell_type": "code",
   "execution_count": null,
   "id": "0e7e27af-0e24-4363-b974-9dd61256184a",
   "metadata": {},
   "outputs": [],
   "source": [
    "# Call Imap function, return Imap figure & axes list \n",
    "# fig, ax = DA.pt.plot_ARmap(ar_vlim=0.4, save=False)\n",
    "fig, ax = DA.pt.plot_ARmap(ar_vlim=0.4)\n",
    "\n",
    "# Plot\n",
    "plt.show()\n",
    "plt.close('all')"
   ]
  },
  {
   "cell_type": "markdown",
   "id": "cbb2d354-62ba-4001-9459-02b129de73d5",
   "metadata": {},
   "source": [
    "### Anisotropy vs Q linecuts"
   ]
  },
  {
   "cell_type": "code",
   "execution_count": null,
   "id": "37544596-d2ff-4f61-96a1-4ac99243083e",
   "metadata": {},
   "outputs": [],
   "source": [
    "# Call Imap function, return Imap figure & axes list \n",
    "# fig, ax = DA.pt.plot_ARvQ(save=False)\n",
    "fig, ax = DA.pt.plot_ARvQ()\n",
    "\n",
    "# Plot\n",
    "plt.show()\n",
    "plt.close('all')"
   ]
  },
  {
   "cell_type": "markdown",
   "id": "bb3a0085-5e8c-4354-a5e9-20bcb9d1f063",
   "metadata": {
    "tags": []
   },
   "source": [
    "# Previous (and messy) detector plotting code for reference "
   ]
  },
  {
   "cell_type": "code",
   "execution_count": null,
   "id": "42",
   "metadata": {
    "tags": []
   },
   "outputs": [],
   "source": [
    "# Parameters\n",
    "edge = 'carbon'\n",
    "intensity_type = 'raw'\n",
    "pol = 0\n",
    "energy = 285.2\n",
    "\n",
    "for sample_name in selected_samples:\n",
    "    DA = DS.sel(sample_name=sample_name)[f'{intensity_type}_intensity']\n",
    "    DA = DA.where(DA>0, 10)\n",
    "    # Make & customize plot\n",
    "    sliced_DA = DA.sel(polarization=pol).sel(energy=energy, method='nearest').swap_dims({'pix_x':'qx','pix_y':'qy'})\n",
    "\n",
    "    cmin = float(sliced_DA.sel(qx=slice(0.01,0.05),qy=slice(0.01,0.05)).compute().quantile(0.03))\n",
    "    cmax = float(sliced_DA.sel(qx=slice(0.01,0.05),qy=slice(0.01,0.05)).compute().quantile(0.999))\n",
    "    \n",
    "    # cmin = cmin if cmin > 1e8 else 1e8\n",
    "\n",
    "    ax = sliced_DA.plot.imshow(figsize=(5.5,4.5), cmap=cmap, norm=LogNorm(cmin,cmax))\n",
    "    ax.figure.suptitle(f'Photon Energy = {np.round(energy, 1)} eV', fontsize=14, y=0.96)\n",
    "    ax.figure.set_tight_layout(True)   \n",
    "    ax.axes.set(aspect='equal', title=f'{sample_name}, Polarization = {pol}°', xlabel='q$_x$ [$Å^{-1}$]', ylabel='q$_y$ [$Å^{-1}$]')\n",
    "    ax.colorbar.set_label('Raw Intensity [arb. units]', rotation=270, labelpad=12)\n",
    "\n",
    "    plt.show()\n",
    "    plt.close('all')"
   ]
  },
  {
   "cell_type": "code",
   "execution_count": null,
   "id": "44",
   "metadata": {
    "tags": []
   },
   "outputs": [],
   "source": [
    "for pol in [0, 90]:\n",
    "    # for sample_name in tqdm(DS.sample_name.values, desc=f'Polarization {pol}°'):\n",
    "    for sample_name in tqdm(selected_samples, desc=f'Polarization {pol}°'):\n",
    "        DA = DS.sel(sample_name=sample_name)[f'{intensity_type}_intensity']\n",
    "\n",
    "        savePath = plotsPath.joinpath('rsoxs_carbon_detector_movies_v1')\n",
    "        savePath.mkdir(exist_ok=True)\n",
    "        output_path = savePath.joinpath(f'{sample_name}_{intensity_type}_pol{pol}deg.mp4')\n",
    "\n",
    "        # FFmpeg command. This is set up to accept data from the pipe and use it as input, with PNG format.\n",
    "        # It will then output an H.264 encoded MP4 video.\n",
    "        cmd = [\n",
    "            'ffmpeg',\n",
    "            '-y',  # Overwrite output file if it exists\n",
    "            '-f', 'image2pipe',\n",
    "            '-vcodec', 'png',\n",
    "            '-r', '16',  # Frame rate\n",
    "            '-i', '-',  # The input comes from a pipe\n",
    "            '-vcodec', 'libx264',\n",
    "            '-pix_fmt', 'yuv420p',\n",
    "            '-crf', '22',  # Set the quality (lower is better, 17 is often considered visually lossless)\n",
    "            str(output_path)\n",
    "        ]\n",
    "\n",
    "        # Start the subprocess\n",
    "        proc = subprocess.Popen(cmd, stdin=subprocess.PIPE, stdout=subprocess.PIPE, stderr=subprocess.PIPE)\n",
    "\n",
    "        # Loop through the energy dimension and send frames to FFmpeg\n",
    "        for i, energy in enumerate(tqdm(DA.energy.values, desc=f'Making the {sample_name} movie')):\n",
    "            # Make & customize plot\n",
    "            sliced_DA = DA.sel(polarization=pol).sel(energy=energy, method='nearest').swap_dims({'pix_x':'qx','pix_y':'qy'})\n",
    "            \n",
    "            ax = sliced_DA.plot.imshow(figsize=(5.5,4.5), cmap=cmap, norm=LogNorm(cmin,cmax))\n",
    "            ax.figure.suptitle(f'Photon Energy = {np.round(energy, 1)} eV', fontsize=14, y=0.96)\n",
    "            ax.figure.set_tight_layout(True)   \n",
    "            ax.axes.set(aspect='equal', title=f'{sample_name}, Polarization = {pol}°', xlabel='q$_x$ [$Å^{-1}$]', ylabel='q$_y$ [$Å^{-1}$]')\n",
    "            ax.colorbar.set_label('Raw Intensity [arb. units]', rotation=270, labelpad=12)\n",
    "\n",
    "            # Save first frame (or specific energy value)\n",
    "            if energy == 285.2:\n",
    "                ax.figure.savefig(savePath.joinpath(f'{sample_name}_{intensity_type}_pol{pol}deg.png'), dpi=120)\n",
    "\n",
    "            buf = io.BytesIO()\n",
    "            ax.figure.savefig(buf, format='png')\n",
    "            buf.seek(0)\n",
    "\n",
    "            # Write the PNG buffer data to the process\n",
    "            proc.stdin.write(buf.getvalue())\n",
    "            plt.close('all')\n",
    "\n",
    "        # Finish the subprocess\n",
    "        out, err = proc.communicate()\n",
    "        if proc.returncode != 0:\n",
    "            print(f\"Error: {err}\")\n",
    "            \n",
    "        gc.collect()  # try to clear up some memory...\n"
   ]
  }
 ],
 "metadata": {
  "kernelspec": {
   "display_name": "Python 3 (ipykernel)",
   "language": "python",
   "name": "python3"
  },
  "language_info": {
   "codemirror_mode": {
    "name": "ipython",
    "version": 3
   },
   "file_extension": ".py",
   "mimetype": "text/x-python",
   "name": "python",
   "nbconvert_exporter": "python",
   "pygments_lexer": "ipython3",
   "version": "3.11.9"
  }
 },
 "nbformat": 4,
 "nbformat_minor": 5
}
