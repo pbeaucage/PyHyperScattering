{
 "cells": [
  {
   "cell_type": "markdown",
   "id": "0",
   "metadata": {},
   "source": [
    "# Plotting pre-processed SST1 RSoXS data\n",
    "Use pyhyper's new RSoXS plotting shortctus"
   ]
  },
  {
   "cell_type": "markdown",
   "id": "1",
   "metadata": {
    "tags": []
   },
   "source": [
    "## Imports"
   ]
  },
  {
   "cell_type": "code",
   "execution_count": null,
   "id": "3",
   "metadata": {
    "tags": []
   },
   "outputs": [],
   "source": [
    "## Imports\n",
    "import PyHyperScattering as phs\n",
    "import pathlib\n",
    "import sys\n",
    "import io\n",
    "import ast\n",
    "import json\n",
    "import datetime\n",
    "import dask.array as da\n",
    "import numpy as np\n",
    "import pandas as pd\n",
    "import xarray as xr\n",
    "import matplotlib.pyplot as plt\n",
    "from matplotlib.colors import LogNorm\n",
    "from matplotlib.ticker import (MultipleLocator, AutoMinorLocator)\n",
    "from tqdm.auto import tqdm\n",
    "import subprocess\n",
    "import gc\n",
    "\n",
    "print(f'Using PyHyperScattering Version: {phs.__version__}')"
   ]
  },
  {
   "cell_type": "markdown",
   "id": "96adcc47-a83c-4c87-a74b-f87496d0f753",
   "metadata": {},
   "source": [
    "## Define paths"
   ]
  },
  {
   "cell_type": "code",
   "execution_count": null,
   "id": "16617d00-65e5-4015-82c4-45fb3d8ae910",
   "metadata": {
    "tags": []
   },
   "outputs": [],
   "source": [
    "notebookPath = pathlib.Path.cwd() \n",
    "zarrsPath = notebookPath  # use this if the example data is in the same folder as this notebook\n",
    "# zarrsPath = pathlib.Path('/nsls2/data/sst/proposals/2024-2/pass-313412/rsoxs_hackathon_2024_data')  # use this if working in the NSLS2 Jupyterhub to access zarrs"
   ]
  },
  {
   "cell_type": "markdown",
   "id": "8",
   "metadata": {
    "jp-MarkdownHeadingCollapsed": true,
    "tags": []
   },
   "source": [
    "## Load cartesian data "
   ]
  },
  {
   "cell_type": "code",
   "execution_count": null,
   "id": "9",
   "metadata": {
    "tags": []
   },
   "outputs": [],
   "source": [
    "[f.name for f in zarrsPath.glob('*zarr')]"
   ]
  },
  {
   "cell_type": "code",
   "execution_count": null,
   "id": "11",
   "metadata": {
    "tags": []
   },
   "outputs": [],
   "source": [
    "DS = xr.open_zarr(zarrsPath.joinpath('cartesian_data_PM6_CF.zarr'))\n",
    "\n",
    "# Compute any dask coordiantes\n",
    "for coord_name, coord_data in DS.coords.items():\n",
    "    if isinstance(coord_data.data, da.Array):\n",
    "        DS.coords[coord_name] = coord_data.compute()\n",
    "        \n",
    "DS"
   ]
  },
  {
   "cell_type": "markdown",
   "id": "5fe3d743-571f-41e0-b2e6-ec92ef1fdaca",
   "metadata": {},
   "source": [
    "### Detector images"
   ]
  },
  {
   "cell_type": "markdown",
   "id": "d8d4d1d7-8458-401d-9415-dd5a6749532b",
   "metadata": {},
   "source": [
    "#### Facet plot at several selected energies"
   ]
  },
  {
   "cell_type": "code",
   "execution_count": null,
   "id": "66cd537c-e218-480d-845c-9f0367add046",
   "metadata": {},
   "outputs": [],
   "source": []
  },
  {
   "cell_type": "markdown",
   "id": "2779843d-0741-45c8-9cf8-fd11a08e89e6",
   "metadata": {},
   "source": [
    "#### Single image at selected energy"
   ]
  },
  {
   "cell_type": "code",
   "execution_count": null,
   "id": "156cada4-ad4a-4059-b15a-97d837419550",
   "metadata": {},
   "outputs": [],
   "source": []
  },
  {
   "cell_type": "markdown",
   "id": "3e86b7cd-b724-4c54-ad63-82d3f5d093af",
   "metadata": {},
   "source": [
    "#### Generate mp4 movie of detector image at all energies"
   ]
  },
  {
   "cell_type": "code",
   "execution_count": null,
   "id": "1219ad6a-fe5b-4d2a-888b-8c0d0ca4d0d3",
   "metadata": {},
   "outputs": [],
   "source": []
  },
  {
   "cell_type": "markdown",
   "id": "440cf8e0-9a01-49fc-a739-c72212012602",
   "metadata": {},
   "source": [
    "## Load polar data & set plotting config"
   ]
  },
  {
   "cell_type": "code",
   "execution_count": null,
   "id": "fbc68672-0ebe-42f5-b8a4-5ac19740741a",
   "metadata": {
    "tags": []
   },
   "outputs": [],
   "source": [
    "[f.name for f in zarrsPath.glob('*zarr')]"
   ]
  },
  {
   "cell_type": "code",
   "execution_count": null,
   "id": "e98775cc-7447-40f6-8c90-a6c58ba9e4cd",
   "metadata": {
    "tags": []
   },
   "outputs": [],
   "source": [
    "DS = xr.open_zarr(zarrsPath.joinpath('polar_data_PM6_CF.zarr'))\n",
    "\n",
    "# Compute any dask coordiantes\n",
    "for coord_name, coord_data in DS.coords.items():\n",
    "    if isinstance(coord_data.data, da.Array):\n",
    "        DS.coords[coord_name] = coord_data.compute()\n",
    "\n",
    "# Select a dataarray (potentially from larger dataset)\n",
    "pol = 0\n",
    "data_variable = 'raw_intensity'\n",
    "DA = DS[data_variable].sel(polarization=pol)\n",
    "\n",
    "# Set default plot roi & hint settings:\n",
    "DA.attrs['plot_roi'] = {\n",
    "    'chi_width': 90,\n",
    "    'q_range': (0.01, 0.09),\n",
    "    'energy_range': (280, 295),\n",
    "    'energy_default': 285,\n",
    "    'selected_energies': np.array([275, 284, 284.4, 284.8, 285.2, 285.6, 286.2, 287, 300, 335])\n",
    "}\n",
    "\n",
    "DA.attrs['plot_hints'] = {\n",
    "    'I_cmap': 'turbo',\n",
    "    'xscale': 'log',\n",
    "    'yscale': 'log'\n",
    "}\n",
    "\n",
    "DA"
   ]
  },
  {
   "cell_type": "markdown",
   "id": "15995e5c-cd62-415b-abb9-ce23d4aafae3",
   "metadata": {},
   "source": [
    "### Integrated scattered intensity (ISI) plots"
   ]
  },
  {
   "cell_type": "code",
   "execution_count": null,
   "id": "a44694d0-c26e-4fb2-ad65-7e2e5eba10af",
   "metadata": {
    "tags": []
   },
   "outputs": [],
   "source": [
    "# Call ISI function, return ISI figure & axes object\n",
    "# fig, ax = DA.pt.plot_ISI(save=False)\n",
    "fig, ax = DA.pt.plot_ISI()\n",
    "\n",
    "# Plot\n",
    "plt.show()\n",
    "plt.close('all')"
   ]
  },
  {
   "cell_type": "code",
   "execution_count": null,
   "id": "a49c3352-6b63-4e8a-9e86-77d08da13642",
   "metadata": {},
   "outputs": [],
   "source": [
    "# quick plotting of 2D polar images (selected energy) to find q limits\n",
    "\n",
    "# %matplotlib widget\n",
    "# plt.close('all')\n",
    "# sel_DA = DA.sel(energy=285)\n",
    "# cmin, cmax = sel_DA.quantile([0.01, 0.99]).compute()\n",
    "# sel_DA.plot(norm=LogNorm(cmin,cmax), cmap=plt.cm.turbo)\n",
    "# plt.show()"
   ]
  },
  {
   "cell_type": "markdown",
   "id": "40ed92b4-5597-4965-a016-a6ca3dc52f51",
   "metadata": {},
   "source": [
    "### Intensity heatmaps"
   ]
  },
  {
   "cell_type": "code",
   "execution_count": null,
   "id": "595137b3-afdd-402a-bcea-77a03fc47838",
   "metadata": {},
   "outputs": [],
   "source": [
    "# Call Imap function, return Imap figure & axes list \n",
    "# fig, ax = DA.pt.plot_Imap(save=False)\n",
    "fig, ax = DA.pt.plot_Imap()\n",
    "\n",
    "# Plot\n",
    "plt.show()\n",
    "plt.close('all')"
   ]
  },
  {
   "cell_type": "markdown",
   "id": "79e5f90f-f3d8-449b-8970-32ea3f567456",
   "metadata": {},
   "source": [
    "### Intensity vs Q linecuts"
   ]
  },
  {
   "cell_type": "code",
   "execution_count": null,
   "id": "0c312695-83da-4aeb-adc7-63169d8431b6",
   "metadata": {},
   "outputs": [],
   "source": [
    "# Call Imap function, return Imap figure & axes list \n",
    "# fig, ax = DA.pt.plot_IvQ(save=False)\n",
    "fig, ax = DA.pt.plot_IvQ()\n",
    "\n",
    "# Plot\n",
    "plt.show()\n",
    "plt.close('all')"
   ]
  },
  {
   "cell_type": "markdown",
   "id": "c13ef87c-ef20-40a5-8a68-52dd53c67217",
   "metadata": {},
   "source": [
    "### Anisotropy heatmaps"
   ]
  },
  {
   "cell_type": "code",
   "execution_count": null,
   "id": "0e7e27af-0e24-4363-b974-9dd61256184a",
   "metadata": {},
   "outputs": [],
   "source": [
    "# Call Imap function, return Imap figure & axes list \n",
    "# fig, ax = DA.pt.plot_ARmap(ar_vlim=0.4, save=False)\n",
    "fig, ax = DA.pt.plot_ARmap(ar_vlim=0.4)\n",
    "\n",
    "# Plot\n",
    "plt.show()\n",
    "plt.close('all')"
   ]
  },
  {
   "cell_type": "markdown",
   "id": "cbb2d354-62ba-4001-9459-02b129de73d5",
   "metadata": {},
   "source": [
    "### Anisotropy vs Q linecuts"
   ]
  },
  {
   "cell_type": "code",
   "execution_count": null,
   "id": "f1bfa476-e7db-4889-b186-e85f0ed607d0",
   "metadata": {},
   "outputs": [],
   "source": []
  },
  {
   "cell_type": "code",
   "execution_count": null,
   "id": "ff0c8eb5-9e50-4dd7-8121-e6f3573853ae",
   "metadata": {},
   "outputs": [],
   "source": []
  },
  {
   "cell_type": "markdown",
   "id": "cf0362da-43a5-4802-9418-2d2efcc3f5e3",
   "metadata": {},
   "source": [
    "# Previous, less organized code below:"
   ]
  },
  {
   "cell_type": "markdown",
   "id": "fdfc2b59-417c-4ab3-927b-efb926b581e6",
   "metadata": {
    "tags": []
   },
   "source": [
    "## Intensity Plots"
   ]
  },
  {
   "cell_type": "markdown",
   "id": "bb3a0085-5e8c-4354-a5e9-20bcb9d1f063",
   "metadata": {
    "jp-MarkdownHeadingCollapsed": true,
    "tags": []
   },
   "source": [
    "### 1. Detector movies"
   ]
  },
  {
   "cell_type": "code",
   "execution_count": null,
   "id": "94886aac-3f8a-48b3-9dcc-a34362d024f4",
   "metadata": {
    "tags": []
   },
   "outputs": [],
   "source": [
    "%matplotlib inline"
   ]
  },
  {
   "cell_type": "code",
   "execution_count": null,
   "id": "a50812e6-8c8a-4fc6-bb36-cf2f42731c2f",
   "metadata": {
    "tags": []
   },
   "outputs": [],
   "source": [
    "plt.close('all')"
   ]
  },
  {
   "cell_type": "code",
   "execution_count": null,
   "id": "14241c70-ef04-4d36-92ba-d7241a3d48be",
   "metadata": {
    "tags": []
   },
   "outputs": [],
   "source": [
    "already_made_movies = set([f.name[:-17] for f in plotsPath.joinpath('rsoxs_carbon_detector_movies_v1').glob('*pol90*')])"
   ]
  },
  {
   "cell_type": "code",
   "execution_count": null,
   "id": "1f256176-831b-4e59-8162-8f83f5177517",
   "metadata": {
    "tags": []
   },
   "outputs": [],
   "source": [
    "selected_samples = list(set(DS.sample_name.values).difference(already_made_movies))\n",
    "selected_samples"
   ]
  },
  {
   "cell_type": "code",
   "execution_count": null,
   "id": "42",
   "metadata": {
    "tags": []
   },
   "outputs": [],
   "source": [
    "# Parameters\n",
    "edge = 'carbon'\n",
    "# DS = rsoxs_datasets[f'cartesian_{edge}']\n",
    "# DS = rsoxs_datasets[f'cartesian_{edge}_reverse']\n",
    "intensity_type = 'raw'\n",
    "pol = 0\n",
    "energy = 285.2\n",
    "\n",
    "# selected_samples = ['PM6_CB', 'PM6_p5CN-CB', 'PM6_1CN-CB', 'PM6_5CN-CB', \n",
    "#                     'PM6_CF', 'PM6_p5CN-CF', 'PM6_1CN-CF', 'PM6_5CN-CF', \n",
    "#                     'PM6_4CF-1CB', 'PM6_2CF-3CB', 'PM6_p5CN-2CF-3CB'] \n",
    "# selected_samples = ['PM6_5CN-CB']\n",
    "\n",
    "# for sample_name in DS.sample_name.values:\n",
    "for sample_name in selected_samples:\n",
    "    DA = DS.sel(sample_name=sample_name)[f'{intensity_type}_intensity']\n",
    "    DA = DA.where(DA>0, 10)\n",
    "    # Make & customize plot\n",
    "    sliced_DA = DA.sel(polarization=pol).sel(energy=energy, method='nearest').swap_dims({'pix_x':'qx','pix_y':'qy'})\n",
    "\n",
    "    cmin = float(sliced_DA.sel(qx=slice(0.01,0.05),qy=slice(0.01,0.05)).compute().quantile(0.03))\n",
    "    cmax = float(sliced_DA.sel(qx=slice(0.01,0.05),qy=slice(0.01,0.05)).compute().quantile(0.999))\n",
    "    \n",
    "    # cmin = cmin if cmin > 1e8 else 1e8\n",
    "\n",
    "    ax = sliced_DA.plot.imshow(figsize=(5.5,4.5), cmap=cmap, norm=LogNorm(cmin,cmax))\n",
    "    ax.figure.suptitle(f'Photon Energy = {np.round(energy, 1)} eV', fontsize=14, y=0.96)\n",
    "    ax.figure.set_tight_layout(True)   \n",
    "    ax.axes.set(aspect='equal', title=f'{sample_name}, Polarization = {pol}°', xlabel='q$_x$ [$Å^{-1}$]', ylabel='q$_y$ [$Å^{-1}$]')\n",
    "    ax.colorbar.set_label('Raw Intensity [arb. units]', rotation=270, labelpad=12)\n",
    "\n",
    "    plt.show()\n",
    "    plt.close('all')"
   ]
  },
  {
   "cell_type": "code",
   "execution_count": null,
   "id": "44",
   "metadata": {
    "tags": []
   },
   "outputs": [],
   "source": [
    "# Select Dataset\n",
    "# edge = 'carbon'\n",
    "# DS = rsoxs_datasets[f'cartesian_{edge}_reverse']\n",
    "# DS = rsoxs_datasets[f'cartesian_{edge}_tilted']\n",
    "\n",
    "# bcx = DS['raw_intensity'].beamcenter_x\n",
    "# bcy = DS['raw_intensity'].beamcenter_y\n",
    "\n",
    "# Select Plotting Parameters\n",
    "# pol = 90\n",
    "# pix_size = 500\n",
    "# pix_x_slice = slice(bcx-(pix_size/2), bcx+(pix_size/2))\n",
    "# pix_y_slice = slice(bcy-(pix_size/2), bcy+(pix_size/2))\n",
    "intensity_type = 'raw'\n",
    "\n",
    "# Select DataArray\n",
    "# sample_name = 'PM6-Y6_3000_dSiN'\n",
    "# selected_samples = ['PM6_5CN-CB']\n",
    "for pol in [0, 90]:\n",
    "    # for sample_name in tqdm(DS.sample_name.values, desc=f'Polarization {pol}°'):\n",
    "    for sample_name in tqdm(selected_samples, desc=f'Polarization {pol}°'):\n",
    "        DA = DS.sel(sample_name=sample_name)[f'{intensity_type}_intensity']\n",
    "\n",
    "        savePath = plotsPath.joinpath('rsoxs_carbon_detector_movies_v1')\n",
    "        savePath.mkdir(exist_ok=True)\n",
    "        output_path = savePath.joinpath(f'{sample_name}_{intensity_type}_pol{pol}deg.mp4')\n",
    "\n",
    "        # FFmpeg command. This is set up to accept data from the pipe and use it as input, with PNG format.\n",
    "        # It will then output an H.264 encoded MP4 video.\n",
    "        cmd = [\n",
    "            'ffmpeg',\n",
    "            '-y',  # Overwrite output file if it exists\n",
    "            '-f', 'image2pipe',\n",
    "            '-vcodec', 'png',\n",
    "            '-r', '16',  # Frame rate\n",
    "            '-i', '-',  # The input comes from a pipe\n",
    "            '-vcodec', 'libx264',\n",
    "            '-pix_fmt', 'yuv420p',\n",
    "            '-crf', '22',  # Set the quality (lower is better, 17 is often considered visually lossless)\n",
    "            str(output_path)\n",
    "        ]\n",
    "\n",
    "        # Start the subprocess\n",
    "        proc = subprocess.Popen(cmd, stdin=subprocess.PIPE, stdout=subprocess.PIPE, stderr=subprocess.PIPE)\n",
    "\n",
    "        # Loop through the energy dimension and send frames to FFmpeg\n",
    "        for i, energy in enumerate(tqdm(DA.energy.values, desc=f'Making the {sample_name} movie')):\n",
    "            # Make & customize plot\n",
    "            sliced_DA = DA.sel(polarization=pol).sel(energy=energy, method='nearest').swap_dims({'pix_x':'qx','pix_y':'qy'})\n",
    "            \n",
    "#             cmin = float(sliced_DA.sel(qx=slice(0.01,0.05),qy=slice(0.01,0.05)).compute().quantile(0.05))\n",
    "#             cmax = float(sliced_DA.sel(qx=slice(0.01,0.05),qy=slice(0.01,0.05)).compute().quantile(0.999))\n",
    "\n",
    "#             cmin = cmin if cmin > 1e8 else 1e8\n",
    "            \n",
    "            ax = sliced_DA.plot.imshow(figsize=(5.5,4.5), cmap=cmap, norm=LogNorm(cmin,cmax))\n",
    "            ax.figure.suptitle(f'Photon Energy = {np.round(energy, 1)} eV', fontsize=14, y=0.96)\n",
    "            ax.figure.set_tight_layout(True)   \n",
    "            ax.axes.set(aspect='equal', title=f'{sample_name}, Polarization = {pol}°', xlabel='q$_x$ [$Å^{-1}$]', ylabel='q$_y$ [$Å^{-1}$]')\n",
    "            ax.colorbar.set_label('Raw Intensity [arb. units]', rotation=270, labelpad=12)\n",
    "\n",
    "            # Save first frame (or specific energy value)\n",
    "            if energy == 285.2:\n",
    "                ax.figure.savefig(savePath.joinpath(f'{sample_name}_{intensity_type}_pol{pol}deg.png'), dpi=120)\n",
    "\n",
    "            buf = io.BytesIO()\n",
    "            ax.figure.savefig(buf, format='png')\n",
    "            buf.seek(0)\n",
    "\n",
    "            # Write the PNG buffer data to the process\n",
    "            proc.stdin.write(buf.getvalue())\n",
    "            plt.close('all')\n",
    "\n",
    "        # Finish the subprocess\n",
    "        out, err = proc.communicate()\n",
    "        if proc.returncode != 0:\n",
    "            print(f\"Error: {err}\")\n",
    "            \n",
    "        gc.collect()  # try to clear up some memory...\n"
   ]
  },
  {
   "cell_type": "markdown",
   "id": "61",
   "metadata": {
    "tags": []
   },
   "source": [
    "## Anisotropy Ratio Plots"
   ]
  },
  {
   "cell_type": "markdown",
   "id": "65",
   "metadata": {
    "tags": []
   },
   "source": [
    "### 2. 1D meaned AR linecuts"
   ]
  },
  {
   "cell_type": "code",
   "execution_count": null,
   "id": "66",
   "metadata": {
    "tags": []
   },
   "outputs": [],
   "source": [
    "# make selection\n",
    "edge = 'carbon'\n",
    "# DS = rsoxs_datasets[f'polar_{edge}']\n",
    "# DS = rsoxs_datasets[f'polar_{edge}_reverse']\n",
    "\n",
    "intensity_type = 'raw'\n",
    "chi_width = 90\n",
    "q_slice = slice(0.008, None)\n",
    "e_slice = slice(282, 292)\n",
    "\n",
    "selected_samples = ['PM6_CB', 'PM6_p5CN-CB', 'PM6_1CN-CB', 'PM6_5CN-CB', \n",
    "                    'PM6_CF', 'PM6_p5CN-CF', 'PM6_1CN-CF', 'PM6_5CN-CF', \n",
    "                    'PM6_4CF-1CB', 'PM6_2CF-3CB', 'PM6_p5CN-2CF-3CB'] \n",
    "\n",
    "for sample_name in DS.sample_name.values[:]:\n",
    "# for sample_name in tqdm(selected_samples):\n",
    "    pol_paras = []\n",
    "    pol_perps = []\n",
    "    for pol in [0, 90]:\n",
    "        para_DA, perp_DA = make_para_perp_DAs(DS, sample_name, intensity_type, pol, (q_slice.start,q_slice.stop), chi_width) \n",
    "        pol_paras.append(para_DA)\n",
    "        pol_perps.append(perp_DA)\n",
    "\n",
    "\n",
    "    pol_paras[0] = pol_paras[0].assign_coords({'chi': np.linspace(0, chi_width, len(pol_paras[0].chi.values))})  # .assign_coords({'chi': np.linspace(0, 90,len(pol_paras[1].chi.values))})\n",
    "    pol_paras[1] = pol_paras[1].assign_coords({'chi': np.linspace(0, chi_width, len(pol_paras[1].chi.values))})  # .assign_coords({'chi': np.linspace(0, 90,len(pol_paras[1].chi.values))})\n",
    "    pol_perps[0] = pol_perps[0].assign_coords({'chi': np.linspace(0, chi_width, len(pol_perps[0].chi.values))})  # .assign_coords({'chi': np.linspace(0, 90,len(pol_perps[1].chi.values))})\n",
    "    pol_perps[1] = pol_perps[1].assign_coords({'chi': np.linspace(0, chi_width, len(pol_perps[1].chi.values))})  # .assign_coords({'chi': np.linspace(0, 90,len(pol_perps[1].chi.values))})\n",
    "\n",
    "    pol_paras[0] = pol_paras[0].interp({'chi': pol_paras[1].chi.values})  # .assign_coords({'chi': np.linspace(0, 90,len(pol_paras[1].chi.values))})\n",
    "    pol_perps[0] = pol_perps[0].interp({'chi': pol_perps[1].chi.values})  # .assign_coords({'chi': np.linspace(0, 90,len(pol_perps[1].chi.values))})\n",
    "\n",
    "    para_DA = (pol_paras[0] + pol_paras[1])/2\n",
    "    perp_DA = (pol_perps[0] + pol_perps[1])/2\n",
    "\n",
    "    para_DA = para_DA.assign_coords({'polarization':'avg'})\n",
    "    perp_DA = perp_DA.assign_coords({'polarization':'avg'})\n",
    "\n",
    "    para_DA = para_DA.interpolate_na(dim='q')\n",
    "    perp_DA = perp_DA.interpolate_na(dim='q')\n",
    "\n",
    "    pol = str(para_DA.polarization.values) \n",
    "\n",
    "    # Select AR data\n",
    "    ar_DA = (para_DA.mean('chi') - perp_DA.mean('chi')) / (para_DA.mean('chi') + perp_DA.mean('chi'))\n",
    "\n",
    "    # Plot   \n",
    "    energies = para_DA.energy.sel(energy=[260, 275, 283, 284, 284.4, 284.8, 285.2, 285.6, 286.2, 287, 300, 338.75], method='nearest').data\n",
    "    cmap = plt.cm.turbo.copy()\n",
    "    colors = cmap(np.linspace(0, 1, len(energies)))        \n",
    "\n",
    "    # # Create a ScalarMappable object with the colormap and normalization & add the colorbar to the figure\n",
    "    # sm = plt.cm.ScalarMappable(cmap=cmap, norm=plt.Normalize(vmin=energies[0], vmax=energies[-1]))\n",
    "    # cax = ax.inset_axes([1.03, 0, 0.03, 1])\n",
    "    # cbar = fig.colorbar(sm, cax=cax, orientation='vertical')\n",
    "    # cbar.set_label(label=f'Time [seconds]', labelpad=14)\n",
    "    # cbar.set_ticks(np.round(np.linspace(energies[0], energies[-1], len(energies)), 2))\n",
    "\n",
    "    fig, ax = plt.subplots(tight_layout=True, figsize=(6,4), dpi=120)\n",
    "\n",
    "    for j, energy in enumerate(energies):\n",
    "        (ar_DA.sel(energy=energy).plot.line(ax=ax, color=colors[j], label=energy, xscale='log'))\n",
    "\n",
    "    fig.suptitle(f'Anisotropy Ratio Linecuts: {sample_name}', x=0.46, y=0.95)\n",
    "\n",
    "    ax.set(title=f'Chi width = {chi_width}°, Pol = {pol}°', ylim=(-0.5, 0.5), ylabel='AR [arb. units]', xlabel='Q [$Å^{-1}$]')\n",
    "    ax.legend(title='Energy [eV]', loc=(1.03,0.02))\n",
    "\n",
    "    # savePath = plotsPath.joinpath('rsoxs_carbon_reverse/ar_cuts_v1')\n",
    "    # savePath.mkdir(exist_ok=True)\n",
    "    # fig.savefig(savePath.joinpath( \n",
    "    #     f'{sample_name}_{intensity_type}_chiWidth-{chi_width}deg_q-{q_slice.start}-{q_slice.stop}_pol{pol}deg.png'), dpi=120)\n",
    "\n",
    "    plt.show()\n",
    "    plt.close('all')"
   ]
  },
  {
   "cell_type": "code",
   "execution_count": null,
   "id": "67",
   "metadata": {
    "tags": []
   },
   "outputs": [],
   "source": [
    "# make selection, individual polarizations\n",
    "edge = 'carbon'\n",
    "# DS = rsoxs_datasets[f'polar_{edge}']\n",
    "DS = rsoxs_datasets[f'polar_{edge}_tilted']\n",
    "\n",
    "intensity_type = 'corr'\n",
    "chi_width = 90\n",
    "q_slice = slice(0.009, 0.08)\n",
    "e_slice = slice(282, 292)\n",
    "\n",
    "for sample_name in tqdm(DS.sample_name.values[:]):\n",
    "    for pol in [0, 45, 90]:\n",
    "        para_DA, perp_DA = make_para_perp_DAs(DS, sample_name, intensity_type, pol, (q_slice.start,q_slice.stop), chi_width) \n",
    "\n",
    "        # Select AR data\n",
    "        ar_DA = (para_DA.mean('chi') - perp_DA.mean('chi')) / (para_DA.mean('chi') + perp_DA.mean('chi'))\n",
    "\n",
    "        # Plot   \n",
    "        energies = para_DA.energy.sel(energy=[260, 275, 283, 284, 284.4, 284.8, 285.2, 285.6, 286.2, 287, 300, 338.75], method='nearest').data\n",
    "        cmap = plt.cm.turbo.copy()\n",
    "        colors = cmap(np.linspace(0, 1, len(energies)))        \n",
    "\n",
    "        # # Create a ScalarMappable object with the colormap and normalization & add the colorbar to the figure\n",
    "        # sm = plt.cm.ScalarMappable(cmap=cmap, norm=plt.Normalize(vmin=energies[0], vmax=energies[-1]))\n",
    "        # cax = ax.inset_axes([1.03, 0, 0.03, 1])\n",
    "        # cbar = fig.colorbar(sm, cax=cax, orientation='vertical')\n",
    "        # cbar.set_label(label=f'Time [seconds]', labelpad=14)\n",
    "        # cbar.set_ticks(np.round(np.linspace(energies[0], energies[-1], len(energies)), 2))\n",
    "\n",
    "        fig, ax = plt.subplots(tight_layout=True, figsize=(6,4), dpi=120)\n",
    "\n",
    "        for j, energy in enumerate(energies):\n",
    "            (ar_DA.sel(energy=energy).plot.line(ax=ax, color=colors[j], label=energy, xscale='log'))\n",
    "\n",
    "        fig.suptitle(f'Anisotropy Ratio Linecuts: {sample_name}', x=0.46, y=0.95)\n",
    "\n",
    "        # ax.set(title=f'Chi width = {chi_width}°, Pol = {pol}°', ylim=(-0.5, 0.5), ylabel='AR [arb. units]', xlabel='Q [$Å^{-1}$]')\n",
    "        ax.set(title=f'Chi width = {chi_width}°, Pol = {pol}°', ylabel='AR [arb. units]', xlabel='Q [$Å^{-1}$]')\n",
    "\n",
    "        ax.legend(title='Energy [eV]', loc=(1.03,0.02))\n",
    "\n",
    "        # savePath = plotsPath.joinpath('rsoxs_carbon_tilted/ar_cuts_v1')\n",
    "        # savePath.mkdir(exist_ok=True)\n",
    "        # fig.savefig(savePath.joinpath( \n",
    "        #     f'{sample_name}_{intensity_type}_chiWidth-{chi_width}deg_q-{q_slice.start}-{q_slice.stop}_pol{pol}deg.png'), dpi=120)\n",
    "\n",
    "        # plt.show()\n",
    "        plt.close('all')"
   ]
  },
  {
   "cell_type": "markdown",
   "id": "0e9b442a-445c-44bb-a33a-32fc22d96ebc",
   "metadata": {
    "tags": []
   },
   "source": [
    "### Para - perp log scale intensity"
   ]
  },
  {
   "cell_type": "code",
   "execution_count": null,
   "id": "33ad047b-fae3-41d2-80f4-8ae6bc42fd6b",
   "metadata": {
    "tags": []
   },
   "outputs": [],
   "source": [
    "# make selection\n",
    "edge = 'carbon'\n",
    "# DS = rsoxs_datasets[f'polar_{edge}']\n",
    "# DS = rsoxs_datasets[f'polar_{edge}_tilted']\n",
    "\n",
    "intensity_type = 'raw'\n",
    "chi_width = 90\n",
    "q_slice = slice(0.01, None)\n",
    "e_slice = slice(282, 292)\n",
    "porod_slices = []\n",
    "# porod_slices = [slice(0.0107, 0.0138), # Calculate 1 degree polynomial (straigh line) through these regions\n",
    "#                 slice(0.0107, 0.0240),\n",
    "#                 slice(0.0250, 0.0500),\n",
    "#                 slice(0.0500, 0.0800)]\n",
    "\n",
    "# selected_samples = ['PM6_CB', 'PM6_p5CN-CB', 'PM6_1CN-CB', 'PM6_5CN-CB', \n",
    "#                     'PM6_CF', 'PM6_p5CN-CF', 'PM6_1CN-CF', 'PM6_5CN-CF', \n",
    "#                     'PM6_4CF-1CB', 'PM6_2CF-3CB', 'PM6_p5CN-2CF-3CB'] \n",
    "# selected_samples = ['PM6_5CN-CB', 'PM6_CF']\n",
    "\n",
    "# plt.close('all')\n",
    "\n",
    "all_slopes = {}\n",
    "for sample_name in DS.sample_name.values[:]:\n",
    "# for sample_name in tqdm(selected_samples):\n",
    "    pol_paras = []\n",
    "    pol_perps = []\n",
    "    slopes = {}\n",
    "    for pol in [0, 90]:\n",
    "        para_DA, perp_DA = make_para_perp_DAs(DS, sample_name, intensity_type, pol, (q_slice.start,q_slice.stop), chi_width) \n",
    "        pol_paras.append(para_DA)\n",
    "        pol_perps.append(perp_DA)\n",
    "\n",
    "\n",
    "    pol_paras[0] = pol_paras[0].assign_coords({'chi': np.linspace(0, chi_width, len(pol_paras[0].chi.values))})  # .assign_coords({'chi': np.linspace(0, 90,len(pol_paras[1].chi.values))})\n",
    "    pol_paras[1] = pol_paras[1].assign_coords({'chi': np.linspace(0, chi_width, len(pol_paras[1].chi.values))})  # .assign_coords({'chi': np.linspace(0, 90,len(pol_paras[1].chi.values))})\n",
    "    pol_perps[0] = pol_perps[0].assign_coords({'chi': np.linspace(0, chi_width, len(pol_perps[0].chi.values))})  # .assign_coords({'chi': np.linspace(0, 90,len(pol_perps[1].chi.values))})\n",
    "    pol_perps[1] = pol_perps[1].assign_coords({'chi': np.linspace(0, chi_width, len(pol_perps[1].chi.values))})  # .assign_coords({'chi': np.linspace(0, 90,len(pol_perps[1].chi.values))})\n",
    "\n",
    "    pol_paras[0] = pol_paras[0].interp({'chi': pol_paras[1].chi.values})  # .assign_coords({'chi': np.linspace(0, 90,len(pol_paras[1].chi.values))})\n",
    "    pol_perps[0] = pol_perps[0].interp({'chi': pol_perps[1].chi.values})  # .assign_coords({'chi': np.linspace(0, 90,len(pol_perps[1].chi.values))})\n",
    "\n",
    "    para_DA = (pol_paras[0] + pol_paras[1])/2\n",
    "    perp_DA = (pol_perps[0] + pol_perps[1])/2\n",
    "\n",
    "    para_DA = para_DA.assign_coords({'polarization':'avg'})\n",
    "    perp_DA = perp_DA.assign_coords({'polarization':'avg'})\n",
    "\n",
    "    para_DA = para_DA.interpolate_na(dim='q')\n",
    "    perp_DA = perp_DA.interpolate_na(dim='q')\n",
    "\n",
    "    pol = str(para_DA.polarization.values) \n",
    "\n",
    "    # Select AR data\n",
    "    # ar_DA = (para_DA.mean('chi') - perp_DA.mean('chi'))  # / (para_DA.mean('chi') + perp_DA.mean('chi'))\n",
    "    ar_DA = np.abs(para_DA.mean('chi') - perp_DA.mean('chi'))  # / (para_DA.mean('chi') + perp_DA.mean('chi'))\n",
    "\n",
    "    # Plot   \n",
    "    energies = para_DA.energy.sel(energy=[270, 283, 284.4, 284.8, 284.9, 285, 285.1, 285.2, 285.3, 285.4, 286.2, 338.75], method='nearest').data\n",
    "    cmap = plt.cm.turbo.copy()\n",
    "    colors = cmap(np.linspace(0, 1, len(energies)))        \n",
    "\n",
    "    # # Create a ScalarMappable object with the colormap and normalization & add the colorbar to the figure\n",
    "    # sm = plt.cm.ScalarMappable(cmap=cmap, norm=plt.Normalize(vmin=energies[0], vmax=energies[-1]))\n",
    "    # cax = ax.inset_axes([1.03, 0, 0.03, 1])\n",
    "    # cbar = fig.colorbar(sm, cax=cax, orientation='vertical')\n",
    "    # cbar.set_label(label=f'Time [seconds]', labelpad=14)\n",
    "    # cbar.set_ticks(np.round(np.linspace(energies[0], energies[-1], len(energies)), 2))\n",
    "\n",
    "    fig, ax = plt.subplots(tight_layout=True, figsize=(6,4), dpi=120)\n",
    "\n",
    "    for j, energy in enumerate(tqdm(energies, desc='Plotting & fitting slopes per energy')):\n",
    "        sel_DA = ar_DA.sel(energy=energy)\n",
    "        sel_DA.plot.line(ax=ax, color=colors[j], label=energy, xscale='log', yscale='log',\n",
    "                         linestyle='None', marker='.', markersize=3)\n",
    "        \n",
    "        porod_slopes = {}\n",
    "        for porod_slice in porod_slices:\n",
    "            m, b = np.polyfit(np.log(sel_DA.sel(q=porod_slice).q.data), np.log(sel_DA.sel(q=porod_slice).data.compute()), deg=1)\n",
    "            # display(porod_slice, m)       \n",
    "            porod_slopes[f'{porod_slice.start}-{porod_slice.stop}'] = np.round(m, 2)\n",
    "            \n",
    "        slopes[energy] = porod_slopes\n",
    "        \n",
    "    all_slopes[sample_name] = slopes\n",
    "    fig.suptitle(f'$\\parallel$ - $\\perp$ Intensity Absolute Difference: {sample_name}', x=0.46, y=0.95)\n",
    "\n",
    "    ax.set(title=f'Chi width = {chi_width}°, Pol = {pol}°', ylim=(1e0, None), ylabel='Intensity [arb. units]', xlabel='Q [$Å^{-1}$]')\n",
    "    # ax.set(title=f'Chi width = {chi_width}°, Pol = {pol}°', ylim=(None, None), ylabel='AR [arb. units]', xlabel='Q [$Å^{-1}$]')\n",
    "    ax.axes.grid(visible=True, which='both', axis='x')\n",
    "    legend = ax.legend(title='Energy [eV]', loc=(1.03,0.02))\n",
    "    for handle in legend.legend_handles:\n",
    "        handle.set_markersize(15)\n",
    "    \n",
    "    savePath = plotsPath.joinpath('rsoxs_carbon_para-perp_cuts_v1')\n",
    "    savePath.mkdir(exist_ok=True)\n",
    "    fig.savefig(savePath.joinpath( \n",
    "        f'{sample_name}_{intensity_type}_chiWidth-{chi_width}deg_q-{q_slice.start}-{q_slice.stop}_pol{pol}deg.png'), dpi=120)\n",
    "\n",
    "    plt.show()\n",
    "    plt.close('all')\n",
    "    \n",
    "# # Save all_slopes.json in same save folder\n",
    "# json_data = json.dumps(all_slopes)\n",
    "# with open(str(savePath.joinpath('all_slopes.json')), 'w') as f:\n",
    "#     f.write(json_data)"
   ]
  }
 ],
 "metadata": {
  "kernelspec": {
   "display_name": "Python 3 (ipykernel)",
   "language": "python",
   "name": "python3"
  },
  "language_info": {
   "codemirror_mode": {
    "name": "ipython",
    "version": 3
   },
   "file_extension": ".py",
   "mimetype": "text/x-python",
   "name": "python",
   "nbconvert_exporter": "python",
   "pygments_lexer": "ipython3",
   "version": "3.11.9"
  }
 },
 "nbformat": 4,
 "nbformat_minor": 5
}
